{
 "cells": [
  {
   "cell_type": "code",
   "execution_count": 3,
   "id": "ca64cc7b",
   "metadata": {
    "collapsed": true
   },
   "outputs": [
    {
     "name": "stdout",
     "output_type": "stream",
     "text": [
      "Collecting docplex\n",
      "  Downloading docplex-2.25.236.tar.gz (633 kB)\n",
      "\u001b[2K     \u001b[90m━━━━━━━━━━━━━━━━━━━━━━━━━━━━━━━━━━━━━━━\u001b[0m \u001b[32m633.5/633.5 kB\u001b[0m \u001b[31m8.9 MB/s\u001b[0m eta \u001b[36m0:00:00\u001b[0ma \u001b[36m0:00:01\u001b[0m\n",
      "\u001b[?25h  Preparing metadata (setup.py) ... \u001b[?25ldone\n",
      "\u001b[?25hRequirement already satisfied: six in /Users/avinash.c.kumar/opt/anaconda3/lib/python3.9/site-packages (from docplex) (1.16.0)\n",
      "Building wheels for collected packages: docplex\n",
      "  Building wheel for docplex (setup.py) ... \u001b[?25ldone\n",
      "\u001b[?25h  Created wheel for docplex: filename=docplex-2.25.236-py3-none-any.whl size=671350 sha256=b535bb77745f719c3b781797272cc8a5e058454bb8c2d170275131f60591355a\n",
      "  Stored in directory: /Users/avinash.c.kumar/Library/Caches/pip/wheels/02/32/20/7f3f85d090da2c3b1ec41de83f17f426a05acc5d9f5e8a1c9f\n",
      "Successfully built docplex\n",
      "Installing collected packages: docplex\n",
      "Successfully installed docplex-2.25.236\n"
     ]
    }
   ],
   "source": [
    "!pip install docplex\n",
    "!pip install cplex"
   ]
  },
  {
   "cell_type": "markdown",
   "id": "38ed7acc",
   "metadata": {},
   "source": [
    "**Problem**\n",
    "\n",
    "Consider a manufacturing company that produces products. Answer questions 1 to 7 under the following conditions:\n",
    "\n",
    "- The profit from selling Product 1 is ¥20,000/kg, and from Product 2 is ¥30,000/kg.\n",
    "- To manufacture 1kg of Product 1, Material 1: 1kg, Material 2: 1kg are required.\n",
    "- To manufacture 1kg of Product 2, Material 1: 1kg, Material 2: 2kg are required.\n",
    "- There are only 4kg of Material 1 and 6kg of Material 2 available.\n",
    "\n",
    "Let \\( x_1 \\) and \\( x_2 \\) represent the production quantities (kg) of Product 1 and Product 2, respectively. These are continuous variables.\n",
    "\n",
    "1. Determine the production quantities \\( (x_1, x_2) \\) that maximize profit and the corresponding profit.\n",
    "2. Derive the dual problem of this problem.\n",
    "3. Find the optimal solution (objective function value) and the values of the variables that give the optimal solution for the dual problem.\n",
    "4. If it is possible to increase either Material 1 (4kg) or Material 2 (6kg) slightly, which one should be increased to contribute more to the increase in profit?\n",
    "5. Product 3 (continuous variable \\( x_3 \\)) is being planned. The profit is ¥20,000 per unit, and it requires Material 1: 2kg, Material 2: 1kg for production. Will introducing Product 3 increase profit? If so, by how much?\n",
    "6. Product 4 (continuous variable \\( x_4 \\)) is being planned. The profit is ¥60,000 per unit, and it requires Material 1: 3kg, Material 2: 2kg for production. Will introducing Product 4 increase profit? If so, by how much?\n",
    "7. If the upper limit of Material 2 is increased from 6kg to 9kg, determine the production quantities \\( (x_1, x_2) \\) that maximize profit and the corresponding profit.\n"
   ]
  },
  {
   "cell_type": "code",
   "execution_count": 9,
   "id": "c0a6909a",
   "metadata": {},
   "outputs": [
    {
     "name": "stdout",
     "output_type": "stream",
     "text": [
      "Production quantities:\n",
      "Product 1: 2.0 kg\n",
      "Product 2: 2.0 kg\n",
      "Total Max Profit Achievable: ¥ 100000.0\n"
     ]
    }
   ],
   "source": [
    "#1. Determine the production quantities \\( (x_1, x_2) \\) that maximize profit and the corresponding profit.\n",
    "from docplex.mp.model import Model\n",
    "\n",
    "# Create a model\n",
    "mdl_max = Model(\"Maximize Profit\")\n",
    "\n",
    "# Decision variables\n",
    "x1_max_model = mdl_max.continuous_var(name=\"Product1\", lb=0)\n",
    "x2_max_model = mdl_max.continuous_var(name=\"Product2\", lb=0)\n",
    "\n",
    "# Objective function\n",
    "profit_per_kg_product1 = 20000\n",
    "profit_per_kg_product2 = 30000\n",
    "mdl_max.maximize(profit_per_kg_product1 * x1_max_model + profit_per_kg_product2 * x2_max_model)\n",
    "\n",
    "# Constraints\n",
    "#To make product 1\n",
    "material1_required_product1 = 1\n",
    "material2_required_product1 = 1\n",
    "\n",
    "#To make product 2\n",
    "material1_required_product2 = 1\n",
    "material2_required_product2 = 2\n",
    "\n",
    "#Total Material available\n",
    "material1_available = 4\n",
    "material2_available = 6\n",
    "\n",
    "\n",
    "#Define the constraint equations:\n",
    "#x1 + x2 <= 4\n",
    "mdl_max.add_constraint(material1_required_product1 * x1_max_model + material1_required_product2 * x2_max_model <= material1_available)\n",
    "#x1 + 2*x2 <= 6\n",
    "mdl_max.add_constraint(material2_required_product1 * x1_max_model + material2_required_product2 * x2_max_model <= material2_available)\n",
    "\n",
    "# Solve the problem\n",
    "mdl_max.solve()\n",
    "\n",
    "# Print the solution\n",
    "print(\"Production quantities:\")\n",
    "print(\"Product 1:\", x1_max_model.solution_value, \"kg\")\n",
    "print(\"Product 2:\", x2_max_model.solution_value, \"kg\")\n",
    "print(\"Total Max Profit Achievable: ¥\", mdl_max.objective_value)"
   ]
  },
  {
   "cell_type": "code",
   "execution_count": 2,
   "id": "4d82e242",
   "metadata": {},
   "outputs": [
    {
     "name": "stdout",
     "output_type": "stream",
     "text": [
      "\n",
      "Dual Problem:\n",
      "Production quantities:\n",
      "Product 1: 0 kg\n",
      "Product 2: 0 kg\n",
      "Total Max Profit Achievable: ¥ 0.0\n"
     ]
    }
   ],
   "source": [
    "#2. Derive the dual problem of this problem.\n",
    "#3. Find the optimal solution (objective function value) and the values of the variables that give the optimal solution for the dual problem.\n",
    "# Create a model\n",
    "mdl_min = Model(\"Minimize Profit\")\n",
    "\n",
    "# Decision variables\n",
    "x1_min_model = mdl_min.continuous_var(name=\"Product1\", lb=0)\n",
    "x2_min_model = mdl_min.continuous_var(name=\"Product2\", lb=0)\n",
    "\n",
    "# Objective function\n",
    "profit_per_kg_product1 = 20000\n",
    "profit_per_kg_product2 = 30000\n",
    "mdl_min.minimize(profit_per_kg_product1 * x1_min_model + profit_per_kg_product2 * x2_min_model)\n",
    "\n",
    "# Constraints\n",
    "#To make product 1\n",
    "material1_required_product1 = 1\n",
    "material2_required_product1 = 1\n",
    "\n",
    "#To make product 2\n",
    "material1_required_product2 = 1\n",
    "material2_required_product2 = 2\n",
    "\n",
    "#Total Material available\n",
    "material1_available = 4\n",
    "material2_available = 6\n",
    "\n",
    "\n",
    "#Define the equations:\n",
    "#x1 + x2 <= 4\n",
    "mdl_min.add_constraint(material1_required_product1 * x1_min_model + material1_required_product2 * x2_min_model <= material1_available)\n",
    "#x1 + 2*x2 <= 6\n",
    "mdl_min.add_constraint(material2_required_product1 * x1_min_model + material2_required_product2 * x2_min_model <= material2_available)\n",
    "\n",
    "# Solve the problem\n",
    "mdl_min.solve()\n",
    "\n",
    "# Print the results of the dual problem\n",
    "print(\"\\nDual Problem:\")\n",
    "# Print the solution\n",
    "print(\"Production quantities:\")\n",
    "print(\"Product 1:\", x1_min_model.solution_value, \"kg\")\n",
    "print(\"Product 2:\", x2_min_model.solution_value, \"kg\")\n",
    "print(\"Total Min Profit Achievable: ¥\", mdl_min.objective_value)"
   ]
  },
  {
   "cell_type": "code",
   "execution_count": 3,
   "id": "633e8a6a",
   "metadata": {},
   "outputs": [
    {
     "name": "stdout",
     "output_type": "stream",
     "text": [
      "\n",
      "After increasing Material 1 availability to: 5\n",
      "Material 1 available:5 , Material 2 Available: 6\n",
      "Production quantities:\n",
      "Product 1: 2.0 kg\n",
      "Product 2: 2.0 kg\n",
      "Total Profit: ¥ 100000.0\n",
      "\n",
      "After increasing Material 2 availability to: 7\n",
      "Material 1 available:4 , Material 2 Available: 7\n",
      "Production quantities:\n",
      "Product 1: 2.0 kg\n",
      "Product 2: 2.0 kg\n",
      "Total Profit: ¥ 100000.0\n",
      "Thus, there is no affect on optimal solution by slight increase of a quantity of product.\n"
     ]
    }
   ],
   "source": [
    "#4. If it is possible to increase either Material 1 (4kg) or Material 2 (6kg) slightly, which one should be increased to contribute more to the increase in profit?\n",
    "# Decision variable for Product 3\n",
    "# Increase Material 1 availability\n",
    "material1_available += 1  # Increase Material 1 availability by 1 kg\n",
    "\n",
    "# Solve the updated problem\n",
    "mdl_max.solve()\n",
    "\n",
    "# Print the results\n",
    "print(f\"\\nAfter increasing Material 1 availability to: {material1_available}\")\n",
    "print(f\"Material 1 available:{material1_available} , Material 2 Available: {material2_available}\")\n",
    "print(\"Production quantities:\")\n",
    "print(\"Product 1:\", x1_max_model.solution_value, \"kg\")\n",
    "print(\"Product 2:\", x2_max_model.solution_value, \"kg\")\n",
    "print(\"Total Profit: ¥\", mdl_max.objective_value)\n",
    "\n",
    "# Revert the change\n",
    "material1_available -= 1  # Revert the increase in Material 1 availability\n",
    "\n",
    "# Increase Material 2 availability\n",
    "material2_available += 1  # Increase Material 2 availability by 1 kg\n",
    "\n",
    "# Solve the updated problem\n",
    "mdl_max.solve()\n",
    "\n",
    "# Print the results\n",
    "print(f\"\\nAfter increasing Material 2 availability to: {material2_available}\")\n",
    "print(f\"Material 1 available:{material1_available} , Material 2 Available: {material2_available}\")\n",
    "print(\"Production quantities:\")\n",
    "print(\"Product 1:\", x1_max_model.solution_value, \"kg\")\n",
    "print(\"Product 2:\", x2_max_model.solution_value, \"kg\")\n",
    "print(\"Total Profit: ¥\", mdl_max.objective_value)\n",
    "\n",
    "\n",
    "print('Thus, there is no affect on optimal solution by slight increase of a quantity of product.')"
   ]
  },
  {
   "cell_type": "code",
   "execution_count": 4,
   "id": "93a6f954",
   "metadata": {},
   "outputs": [
    {
     "name": "stdout",
     "output_type": "stream",
     "text": [
      "\n",
      "After introducing Product 3:\n",
      "Production quantities:\n",
      "Product 1: 2.0 kg\n",
      "Product 2: 2.0 kg\n",
      "Product 3: 2.0 units\n",
      "Total Profit: ¥ 40000.0\n"
     ]
    }
   ],
   "source": [
    "#5. Product 3 (continuous variable \\( x_3 \\)) is being planned. The profit is ¥20,000 per unit, and it requires Material 1: 2kg, Material 2: 1kg for production. Will introducing Product 3 increase profit? If so, by how much?\n",
    "x3_max_model = mdl_max.continuous_var(name=\"Product3\", lb=0)\n",
    "\n",
    "# Profit and material requirements for Product 3\n",
    "profit_per_unit_product3 = 20000\n",
    "material1_required_product3 = 2\n",
    "material2_required_product3 = 1\n",
    "\n",
    "# Objective function for Product 3\n",
    "mdl_max.maximize(profit_per_unit_product3 * x3_max_model)\n",
    "\n",
    "# Constraints for Product 3\n",
    "mdl_max.add_constraint(material1_required_product3 * x3_max_model <= material1_available)\n",
    "mdl_max.add_constraint(material2_required_product3 * x3_max_model <= material2_available)\n",
    "\n",
    "# Solve the updated problem\n",
    "mdl_max.solve()\n",
    "\n",
    "# Print the results\n",
    "print(\"\\nAfter introducing Product 3:\")\n",
    "print(\"Production quantities:\")\n",
    "print(\"Product 1:\", x1_max_model.solution_value, \"kg\")\n",
    "print(\"Product 2:\", x2_max_model.solution_value, \"kg\")\n",
    "print(\"Product 3:\", x3_max_model.solution_value, \"units\")\n",
    "print(\"Total Profit: ¥\", mdl_max.objective_value)\n"
   ]
  },
  {
   "cell_type": "code",
   "execution_count": 5,
   "id": "82edf4da",
   "metadata": {},
   "outputs": [
    {
     "name": "stdout",
     "output_type": "stream",
     "text": [
      "\n",
      "After introducing Product 4:\n",
      "Production quantities:\n",
      "Product 1: 2.0 kg\n",
      "Product 2: 2.0 kg\n",
      "Product 3: 2.0 kg\n",
      "Product 4: 1.3333333333333333 units\n",
      "Total Profit: ¥ 80000.0\n"
     ]
    }
   ],
   "source": [
    "#6. Product 4 (continuous variable \\( x_4 \\)) is being planned. The profit is ¥60,000 per unit, and it requires Material 1: 3kg, Material 2: 2kg for production. Will introducing Product 4 increase profit? If so, by how much?\n",
    "# Decision variable for Product 4\n",
    "x4_max_model = mdl_max.continuous_var(name=\"Product4\", lb=0)\n",
    "\n",
    "# Profit and material requirements for Product 4\n",
    "profit_per_unit_product4 = 60000\n",
    "material1_required_product4 = 3\n",
    "material2_required_product4 = 2\n",
    "\n",
    "# Objective function for Product 4\n",
    "mdl_max.maximize(profit_per_unit_product4 * x4_max_model)\n",
    "\n",
    "# Constraints for Product 4\n",
    "mdl_max.add_constraint(material1_required_product4 * x4_max_model <= material1_available)\n",
    "mdl_max.add_constraint(material2_required_product4 * x4_max_model <= material2_available)\n",
    "\n",
    "# Solve the updated problem\n",
    "mdl_max.solve()\n",
    "\n",
    "# Print the results\n",
    "print(\"\\nAfter introducing Product 4:\")\n",
    "print(\"Production quantities:\")\n",
    "print(\"Product 1:\", x1_max_model.solution_value, \"kg\")\n",
    "print(\"Product 2:\", x2_max_model.solution_value, \"kg\")\n",
    "print(\"Product 3:\", x3_max_model.solution_value, \"kg\")\n",
    "print(\"Product 4:\", x4_max_model.solution_value, \"units\")\n",
    "print(\"Total Profit: ¥\", mdl_max.objective_value)\n"
   ]
  },
  {
   "cell_type": "code",
   "execution_count": 7,
   "id": "1cde8c5b",
   "metadata": {},
   "outputs": [
    {
     "name": "stdout",
     "output_type": "stream",
     "text": [
      "\n",
      "After increasing Material 2 availability to: 9\n",
      "Production quantities:\n",
      "Product 1: 0 kg\n",
      "Product 2: 4.0 kg\n",
      "Total Profit: ¥ 120000.0\n"
     ]
    }
   ],
   "source": [
    "#7. If the upper limit of Material 2 is increased from 6kg to 9kg, determine the production quantities \\( (x_1, x_2) \\) that maximize profit and the corresponding profit.\n",
    "\n",
    "# Update the available Material 2 quantity\n",
    "material2_available_updated = 9  # Increased from 6kg to 9kg\n",
    "\n",
    "# Create a new model for this scenario\n",
    "mdl_max_updated = Model(\"Maximize Profit with Increased Material 2\")\n",
    "\n",
    "# Decision variables\n",
    "x1_max_model_updated = mdl_max_updated.continuous_var(name=\"Product1\", lb=0)\n",
    "x2_max_model_updated = mdl_max_updated.continuous_var(name=\"Product2\", lb=0)\n",
    "\n",
    "# Objective function (same as before)\n",
    "mdl_max_updated.maximize(profit_per_kg_product1 * x1_max_model_updated + profit_per_kg_product2 * x2_max_model_updated)\n",
    "\n",
    "# Constraints (same as before, with updated Material 2 availability)\n",
    "mdl_max_updated.add_constraint(material1_required_product1 * x1_max_model_updated + material1_required_product2 * x2_max_model_updated <= material1_available)\n",
    "mdl_max_updated.add_constraint(material2_required_product1 * x1_max_model_updated + material2_required_product2 * x2_max_model_updated <= material2_available_updated)\n",
    "\n",
    "# Solve the updated problem\n",
    "mdl_max_updated.solve()\n",
    "\n",
    "# Print the results\n",
    "print(\"\\nAfter increasing Material 2 availability to:\", material2_available_updated)\n",
    "print(\"Production quantities:\")\n",
    "print(\"Product 1:\", x1_max_model_updated.solution_value, \"kg\")\n",
    "print(\"Product 2:\", x2_max_model_updated.solution_value, \"kg\")\n",
    "print(\"Total Profit: ¥\", mdl_max_updated.objective_value)\n"
   ]
  },
  {
   "cell_type": "code",
   "execution_count": null,
   "id": "45902a7f",
   "metadata": {},
   "outputs": [],
   "source": []
  }
 ],
 "metadata": {
  "kernelspec": {
   "display_name": "Python 3 (ipykernel)",
   "language": "python",
   "name": "python3"
  },
  "language_info": {
   "codemirror_mode": {
    "name": "ipython",
    "version": 3
   },
   "file_extension": ".py",
   "mimetype": "text/x-python",
   "name": "python",
   "nbconvert_exporter": "python",
   "pygments_lexer": "ipython3",
   "version": "3.9.13"
  }
 },
 "nbformat": 4,
 "nbformat_minor": 5
}
